{
 "cells": [
  {
   "cell_type": "code",
   "execution_count": 28,
   "metadata": {},
   "outputs": [
    {
     "data": {
      "application/vnd.jupyter.widget-view+json": {
       "model_id": "6b8419d199104d28a81273d6996abf5b",
       "version_major": 2,
       "version_minor": 0
      },
      "text/plain": [
       "interactive(children=(FloatSlider(value=1.57, description='xi', max=3.141592653589793, step=0.01), FloatSlider…"
      ]
     },
     "metadata": {},
     "output_type": "display_data"
    }
   ],
   "source": [
    "%matplotlib notebook\n",
    "import matplotlib.pyplot as plt\n",
    "import numpy as np\n",
    "import ipywidgets as widgets\n",
    "from scipy.interpolate import interp1d\n",
    "from scipy.signal import savgol_filter\n",
    "def plot(xi,Fo,Fs,):\n",
    "    fig, ax= plt.subplots()\n",
    "    t = np.linspace(0,6*np.pi,1000)\n",
    "    x = np.sin(Fo*t)\n",
    "    ti= np.linspace(xi,6*np.pi+xi,3*Fs, endpoint=False)\n",
    "    xs = np.sin(Fo*ti)\n",
    "    xx = np.linspace(ti.min(),ti.max(), 1000)\n",
    "    itp = interp1d(ti,xs, kind='quadratic')\n",
    "    window_size, poly_order = 101, 3\n",
    "    yy_sg = savgol_filter(itp(xx), window_size, poly_order)\n",
    "    ax.plot(t,x,'k', label = 'Fo')\n",
    "    ax.plot(ti,xs, 'bo',label = 'Fsd')\n",
    "    ax.plot(ti,xs, 'r--',label = 'Fsl')\n",
    "    ax.plot(xx,yy_sg, label = 'Fsc')\n",
    "    plt.ylim(-2,2)\n",
    "    lines = ax.get_lines()\n",
    "Nyquisttheorem = widgets.interact(plot,xi=(0,np.pi,0.01),Fo=(1,2*np.pi,0.1),Fs=(1,2*np.pi,0.1))\n",
    "plt.show()"
   ]
  },
  {
   "cell_type": "code",
   "execution_count": null,
   "metadata": {},
   "outputs": [],
   "source": []
  }
 ],
 "metadata": {
  "kernelspec": {
   "display_name": "Python 3",
   "language": "python",
   "name": "python3"
  },
  "language_info": {
   "codemirror_mode": {
    "name": "ipython",
    "version": 3
   },
   "file_extension": ".py",
   "mimetype": "text/x-python",
   "name": "python",
   "nbconvert_exporter": "python",
   "pygments_lexer": "ipython3",
   "version": "3.7.3"
  }
 },
 "nbformat": 4,
 "nbformat_minor": 2
}
